{
 "cells": [
  {
   "attachments": {},
   "cell_type": "markdown",
   "id": "bc979665-ca02-486f-8060-612d0d37eab3",
   "metadata": {},
   "source": [
    "<aside>\n",
    "💡 **Question 1**\n",
    "Given an integer array nums of 2n integers, group these integers into n pairs (a1, b1), (a2, b2),..., (an, bn) such that the sum of min(ai, bi) for all i is maximized. Return the maximized sum.\n",
    "\n",
    "**Example 1:**\n",
    "Input: nums = [1,4,3,2]\n",
    "Output: 4\n",
    "\n",
    "**Explanation:** All possible pairings (ignoring the ordering of elements) are:\n",
    "\n",
    "1. (1, 4), (2, 3) -> min(1, 4) + min(2, 3) = 1 + 2 = 3\n",
    "2. (1, 3), (2, 4) -> min(1, 3) + min(2, 4) = 1 + 2 = 3\n",
    "3. (1, 2), (3, 4) -> min(1, 2) + min(3, 4) = 1 + 3 = 4\n",
    "So the maximum possible sum is 4\n",
    "</aside>"
   ]
  },
  {
   "cell_type": "code",
   "execution_count": 9,
   "id": "4f24e2a4-3337-4814-a41e-deab7d4cfd91",
   "metadata": {},
   "outputs": [
    {
     "data": {
      "text/plain": [
       "4"
      ]
     },
     "execution_count": 9,
     "metadata": {},
     "output_type": "execute_result"
    }
   ],
   "source": [
    "def array_pair_sum(nums):\n",
    "    nums.sort()\n",
    "    max_sum = 0\n",
    "    for i in range(0, len(nums), 2):\n",
    "        max_sum += min(nums[i], nums[i+1])\n",
    "    return max_sum\n",
    "\n",
    "nums = [1,4,3,2] \n",
    "array_pair_sum(nums)"
   ]
  },
  {
   "attachments": {},
   "cell_type": "markdown",
   "id": "4e944a23-5773-4078-9261-c56c069d33cd",
   "metadata": {},
   "source": [
    "Question 2\n",
    "Alice has n candies, where the ith candy is of type candyType[i]. Alice noticed that she started to gain weight, so she visited a doctor. \n",
    "\n",
    "The doctor advised Alice to only eat n / 2 of the candies she has (n is always even). Alice likes her candies very much, and she wants to eat the maximum number of different types of candies while still following the doctor's advice. \n",
    "\n",
    "Given the integer array candyType of length n, return the maximum number of different types of candies she can eat if she only eats n / 2 of them.\n",
    "\n",
    "Example 1:\n",
    "Input: candyType = [1,1,2,2,3,3]\n",
    "Output: 3\n",
    "\n",
    "Explanation: Alice can only eat 6 / 2 = 3 candies. Since there are only 3 types, she can eat one of each type."
   ]
  },
  {
   "cell_type": "code",
   "execution_count": 10,
   "id": "25858ead-393e-4fe6-a3b7-a7fea3b34aa1",
   "metadata": {},
   "outputs": [
    {
     "name": "stdout",
     "output_type": "stream",
     "text": [
      "3\n"
     ]
    }
   ],
   "source": [
    "def maxCandies(candyType):\n",
    "    unique_candies = len(set(candyType))\n",
    "    max_candies = len(candyType) // 2\n",
    "    return min(unique_candies, max_candies)\n",
    "\n",
    "\n",
    "candyType = [1, 1, 2, 2, 3, 3]\n",
    "print(maxCandies(candyType))"
   ]
  },
  {
   "attachments": {},
   "cell_type": "markdown",
   "id": "8242aded-a14b-46c3-af0d-87573c8ab426",
   "metadata": {},
   "source": [
    "Question 3\n",
    "We define a harmonious array as an array where the difference between its maximum value\n",
    "and its minimum value is exactly 1.\n",
    "\n",
    "Given an integer array nums, return the length of its longest harmonious subsequence\n",
    "among all its possible subsequences.\n",
    "\n",
    "A subsequence of an array is a sequence that can be derived from the array by deleting some or no elements without changing the order of the remaining elements.\n",
    "\n",
    "Example 1:\n",
    "Input: nums = [1,3,2,2,5,2,3,7]\n",
    "Output: 5\n",
    "\n",
    "Explanation: The longest harmonious subsequence is [3,2,2,2,3]."
   ]
  },
  {
   "cell_type": "code",
   "execution_count": 11,
   "id": "1ebd6905-acd1-4b8e-b8f4-91d48def9a2a",
   "metadata": {},
   "outputs": [
    {
     "name": "stdout",
     "output_type": "stream",
     "text": [
      "5\n"
     ]
    }
   ],
   "source": [
    "def findLHS(nums):\n",
    "    nums.sort()\n",
    "    left = 0\n",
    "    max_length = 0\n",
    "\n",
    "    for right in range(len(nums)):\n",
    "        while nums[right] - nums[left] > 1:\n",
    "            left += 1\n",
    "\n",
    "        if nums[right] - nums[left] == 1:\n",
    "            max_length = max(max_length, right - left + 1)\n",
    "\n",
    "    return max_length\n",
    "\n",
    "\n",
    "nums = [1, 3, 2, 2, 5, 2, 3, 7]\n",
    "result = findLHS(nums)\n",
    "print(result)"
   ]
  },
  {
   "attachments": {},
   "cell_type": "markdown",
   "id": "0f16670e-bca7-4e2e-8cfc-0a668033e9df",
   "metadata": {},
   "source": [
    "Question 4\n",
    "You have a long flowerbed in which some of the plots are planted, and some are not.\n",
    "However, flowers cannot be planted in adjacent plots.\n",
    "Given an integer array flowerbed containing 0's and 1's, where 0 means empty and 1 means not empty, and an integer n, return true if n new flowers can be planted in the flowerbed without violating the no-adjacent-flowers rule and false otherwise.\n",
    "\n",
    "Example 1:\n",
    "Input: flowerbed = [1,0,0,0,1], n = 1\n",
    "Output: true"
   ]
  },
  {
   "cell_type": "code",
   "execution_count": 12,
   "id": "a5626eae-87ee-4ace-ac2c-c26af63c5a0f",
   "metadata": {},
   "outputs": [
    {
     "name": "stdout",
     "output_type": "stream",
     "text": [
      "True\n"
     ]
    }
   ],
   "source": [
    "def can_place_flowers(flowerbed, n):\n",
    "    count = 0\n",
    "    for i in range(len(flowerbed)):\n",
    "        if flowerbed[i] == 0:\n",
    "            count += 1\n",
    "        else:\n",
    "            if count > 1:\n",
    "                n -= (count - 1) // 2\n",
    "            count = 0\n",
    "\n",
    "    if count > 1:\n",
    "        n -= count // 2\n",
    "\n",
    "    return n <= 0\n",
    "\n",
    "flowerbed = [1, 0, 0, 0, 1]\n",
    "n = 1\n",
    "print(can_place_flowers(flowerbed, n))"
   ]
  },
  {
   "attachments": {},
   "cell_type": "markdown",
   "id": "719c09a4-c313-4e11-b075-4b6f37365c4f",
   "metadata": {},
   "source": [
    "Question 5\n",
    "Given an integer array nums, find three numbers whose product is maximum and return the maximum product.\n",
    "\n",
    "Example 1:\n",
    "Input: nums = [1,2,3]\n",
    "Output: 6"
   ]
  },
  {
   "cell_type": "code",
   "execution_count": 13,
   "id": "3118b111-2536-4a4c-90fa-c0ffabcbe864",
   "metadata": {},
   "outputs": [
    {
     "data": {
      "text/plain": [
       "6"
      ]
     },
     "execution_count": 13,
     "metadata": {},
     "output_type": "execute_result"
    }
   ],
   "source": [
    "def product(nums):\n",
    "    i=1\n",
    "    for i in range (len(nums)):\n",
    "        i = i*nums[i]\n",
    "    return i\n",
    "nums = [1,2,3]\n",
    "product(nums)"
   ]
  },
  {
   "attachments": {},
   "cell_type": "markdown",
   "id": "cc48138b-f943-45da-b7b2-be3dbf9a024a",
   "metadata": {},
   "source": [
    "Question 6\n",
    "Given an array of integers nums which is sorted in ascending order, and an integer target,\n",
    "write a function to search target in nums. If target exists, then return its index. Otherwise,\n",
    "return -1.\n",
    "\n",
    "You must write an algorithm with O(log n) runtime complexity.\n",
    "\n",
    "Input: nums = [-1,0,3,5,9,12], target = 9\n",
    "Output: 4\n",
    "\n",
    "Explanation: 9 exists in nums and its index is 4"
   ]
  },
  {
   "cell_type": "code",
   "execution_count": 14,
   "id": "0f2216df-5eee-43e4-8ac2-731cecc2cbff",
   "metadata": {},
   "outputs": [
    {
     "data": {
      "text/plain": [
       "4"
      ]
     },
     "execution_count": 14,
     "metadata": {},
     "output_type": "execute_result"
    }
   ],
   "source": [
    "def findTarget(nums,target):\n",
    "    for i in range (len(nums)):\n",
    "        if nums[i]==target:\n",
    "            return nums.index(nums[i])\n",
    "    return -1\n",
    "        \n",
    "nums = [-1,0,3,5,9,12]\n",
    "target = 9\n",
    "findTarget(nums,target)"
   ]
  },
  {
   "attachments": {},
   "cell_type": "markdown",
   "id": "a0a52d0a-4ee0-4d79-8cc6-2f7482c47f72",
   "metadata": {},
   "source": [
    "Question 7\n",
    "An array is monotonic if it is either monotone increasing or monotone decreasing.\n",
    "\n",
    "An array nums is monotone increasing if for all i <= j, nums[i] <= nums[j]. An array nums is\n",
    "monotone decreasing if for all i <= j, nums[i] >= nums[j].\n",
    "\n",
    "Given an integer array nums, return true if the given array is monotonic, or false otherwise.\n",
    "\n",
    "Example 1:\n",
    "Input: nums = [1,2,2,3]\n",
    "Output: true"
   ]
  },
  {
   "cell_type": "code",
   "execution_count": 15,
   "id": "153f6c88-f4e7-4d41-bf21-045639f81a5e",
   "metadata": {},
   "outputs": [
    {
     "data": {
      "text/plain": [
       "True"
      ]
     },
     "execution_count": 15,
     "metadata": {},
     "output_type": "execute_result"
    }
   ],
   "source": [
    "def check_monotone(nums):\n",
    "    inc=dec=True\n",
    "    for i in range (1,len(nums)):\n",
    "        if nums[i]<nums[i-1]:\n",
    "            inc = False\n",
    "        if nums[i]>nums[i-1]:\n",
    "            dec=False\n",
    "        return inc or dec\n",
    "\n",
    "nums = [1,2,2,3]\n",
    "check_monotone(nums)"
   ]
  },
  {
   "attachments": {},
   "cell_type": "markdown",
   "id": "3c7d9d5d-8274-411f-a9bd-ee07cabfcd5b",
   "metadata": {},
   "source": [
    "Question 8\n",
    "You are given an integer array nums and an integer k.\n",
    "\n",
    "In one operation, you can choose any index i where 0 <= i < nums.length and change nums[i] to nums[i] + x where x is an integer from the range [-k, k]. You can apply this operation at most once for each index i.\n",
    "\n",
    "The score of nums is the difference between the maximum and minimum elements in nums.\n",
    "\n",
    "Return the minimum score of nums after applying the mentioned operation at most once for each index in it.\n",
    "\n",
    "Example 1:\n",
    "Input: nums = [1], k = 0\n",
    "Output: 0\n",
    "\n",
    "Explanation: The score is max(nums) - min(nums) = 1 - 1 = 0."
   ]
  },
  {
   "cell_type": "code",
   "execution_count": 16,
   "id": "cf44e4f2-592e-4fc2-a2ef-a6af76e88af0",
   "metadata": {},
   "outputs": [
    {
     "name": "stdout",
     "output_type": "stream",
     "text": [
      "0\n"
     ]
    }
   ],
   "source": [
    "def minimumScore(nums, k):\n",
    "    minimum = min(nums)\n",
    "    maximum = max(nums)\n",
    "    initial_score = maximum - minimum\n",
    "\n",
    "    if initial_score <= 2 * k:\n",
    "        return initial_score\n",
    "\n",
    "    minimum = min(minimum + k, maximum - k)\n",
    "    return maximum - minimum\n",
    "\n",
    "\n",
    "nums = [1]\n",
    "k = 0\n",
    "print(minimumScore(nums, k))"
   ]
  },
  {
   "cell_type": "code",
   "execution_count": null,
   "id": "1dce9ef6-3b16-4cde-898c-43ac599e6ca5",
   "metadata": {},
   "outputs": [],
   "source": []
  }
 ],
 "metadata": {
  "kernelspec": {
   "display_name": "Python 3 (ipykernel)",
   "language": "python",
   "name": "python3"
  },
  "language_info": {
   "codemirror_mode": {
    "name": "ipython",
    "version": 3
   },
   "file_extension": ".py",
   "mimetype": "text/x-python",
   "name": "python",
   "nbconvert_exporter": "python",
   "pygments_lexer": "ipython3",
   "version": "3.9.12"
  }
 },
 "nbformat": 4,
 "nbformat_minor": 5
}
